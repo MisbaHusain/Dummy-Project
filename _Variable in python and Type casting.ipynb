{
 "cells": [
  {
   "cell_type": "markdown",
   "id": "9e292afd",
   "metadata": {},
   "source": [
    "# Variable in Python"
   ]
  },
  {
   "cell_type": "markdown",
   "id": "3bc264d1",
   "metadata": {},
   "source": [
    "Variable is nothing but the set of character which is used to store the value...\n",
    "Or variable is nothing but the storage location"
   ]
  },
  {
   "cell_type": "code",
   "execution_count": 1,
   "id": "3dbff4d3",
   "metadata": {},
   "outputs": [
    {
     "name": "stdout",
     "output_type": "stream",
     "text": [
      "10\n",
      "Misba Husain\n"
     ]
    }
   ],
   "source": [
    "x=10\n",
    "name=\"Misba Husain\"\n",
    "print(x)\n",
    "print(name)\n"
   ]
  },
  {
   "cell_type": "code",
   "execution_count": 4,
   "id": "8903c227",
   "metadata": {},
   "outputs": [
    {
     "name": "stdout",
     "output_type": "stream",
     "text": [
      "50\n",
      "Misba Husain\n"
     ]
    }
   ],
   "source": [
    "y=50                     #y is variable\n",
    "name=(\"Misba Husain\")     #name is variable\n",
    "print(y)\n",
    "print(name)"
   ]
  },
  {
   "cell_type": "code",
   "execution_count": 7,
   "id": "f38406c5",
   "metadata": {},
   "outputs": [
    {
     "name": "stdout",
     "output_type": "stream",
     "text": [
      "100\n",
      "welcome\n",
      "<class 'str'>\n",
      "<class 'int'>\n"
     ]
    }
   ],
   "source": [
    "mis=100                \n",
    "name=\"welcome\"           #name is type str\n",
    "print(mis)\n",
    "print(name)\n",
    "print(type(name))\n",
    "print(type(mis))"
   ]
  },
  {
   "cell_type": "markdown",
   "id": "5a06b6e0",
   "metadata": {},
   "source": [
    "# Type Casting"
   ]
  },
  {
   "cell_type": "markdown",
   "id": "f4293f68",
   "metadata": {},
   "source": [
    "Type casting convertion of one data type into two data type during run time is called type casting "
   ]
  },
  {
   "cell_type": "code",
   "execution_count": 8,
   "id": "deb2f73f",
   "metadata": {},
   "outputs": [
    {
     "name": "stdout",
     "output_type": "stream",
     "text": [
      "3\n"
     ]
    },
    {
     "data": {
      "text/plain": [
       "str"
      ]
     },
     "execution_count": 8,
     "metadata": {},
     "output_type": "execute_result"
    }
   ],
   "source": [
    "p=str(3)\n",
    "print(p)\n",
    "type(p)"
   ]
  },
  {
   "cell_type": "code",
   "execution_count": 12,
   "id": "6f686b1a",
   "metadata": {},
   "outputs": [
    {
     "name": "stdout",
     "output_type": "stream",
     "text": [
      "5\n"
     ]
    },
    {
     "data": {
      "text/plain": [
       "int"
      ]
     },
     "execution_count": 12,
     "metadata": {},
     "output_type": "execute_result"
    }
   ],
   "source": [
    "misba=int(5)\n",
    "print(misba)\n",
    "type(misba)"
   ]
  },
  {
   "cell_type": "code",
   "execution_count": 11,
   "id": "d30db82a",
   "metadata": {},
   "outputs": [
    {
     "name": "stdout",
     "output_type": "stream",
     "text": [
      "10.0\n"
     ]
    },
    {
     "data": {
      "text/plain": [
       "float"
      ]
     },
     "execution_count": 11,
     "metadata": {},
     "output_type": "execute_result"
    }
   ],
   "source": [
    "m=float(10)\n",
    "print(m)\n",
    "type(m)"
   ]
  },
  {
   "cell_type": "code",
   "execution_count": null,
   "id": "b309391e",
   "metadata": {},
   "outputs": [],
   "source": []
  }
 ],
 "metadata": {
  "kernelspec": {
   "display_name": "Python 3",
   "language": "python",
   "name": "python3"
  },
  "language_info": {
   "codemirror_mode": {
    "name": "ipython",
    "version": 3
   },
   "file_extension": ".py",
   "mimetype": "text/x-python",
   "name": "python",
   "nbconvert_exporter": "python",
   "pygments_lexer": "ipython3",
   "version": "3.8.8"
  }
 },
 "nbformat": 4,
 "nbformat_minor": 5
}
