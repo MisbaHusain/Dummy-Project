{
 "cells": [
  {
   "cell_type": "markdown",
   "id": "3c9e4397",
   "metadata": {},
   "source": [
    "# Comments In Python"
   ]
  },
  {
   "cell_type": "code",
   "execution_count": 9,
   "id": "4cb00517",
   "metadata": {},
   "outputs": [
    {
     "name": "stdout",
     "output_type": "stream",
     "text": [
      "Welcome\n"
     ]
    }
   ],
   "source": [
    "# Example 1.....Single Line Comment\n",
    "print(\"Welcome\")#MISBA"
   ]
  },
  {
   "cell_type": "code",
   "execution_count": 17,
   "id": "6abb15b1",
   "metadata": {},
   "outputs": [
    {
     "name": "stdout",
     "output_type": "stream",
     "text": [
      "Welcome\n"
     ]
    }
   ],
   "source": [
    "#Example 2....Multi Line Comment\n",
    "#a and b Add\n",
    "#a=5\n",
    "#b=5\n",
    "print(\"Welcome\")"
   ]
  },
  {
   "cell_type": "code",
   "execution_count": 18,
   "id": "e0f6d68c",
   "metadata": {},
   "outputs": [
    {
     "name": "stdout",
     "output_type": "stream",
     "text": [
      "Welcome\n"
     ]
    }
   ],
   "source": [
    "#Example 3\n",
    "'''This is multiline comment'''\n",
    "print(\"Welcome\")"
   ]
  },
  {
   "cell_type": "code",
   "execution_count": 19,
   "id": "1b5d95db",
   "metadata": {},
   "outputs": [
    {
     "name": "stdout",
     "output_type": "stream",
     "text": [
      "Welcome\n"
     ]
    }
   ],
   "source": [
    "#Example 4\n",
    "\"\"\"This is also Multiline comment\"\"\"\n",
    "print(\"Welcome\")"
   ]
  },
  {
   "cell_type": "markdown",
   "id": "d5898507",
   "metadata": {},
   "source": [
    "# Sum Of Two no..."
   ]
  },
  {
   "cell_type": "code",
   "execution_count": 21,
   "id": "6c0a03e2",
   "metadata": {},
   "outputs": [
    {
     "name": "stdout",
     "output_type": "stream",
     "text": [
      "Ans is 60\n"
     ]
    }
   ],
   "source": [
    "#example 5\n",
    "m=30\n",
    "n=30\n",
    "o= m+n\n",
    "print(\"Ans is\",o)"
   ]
  },
  {
   "cell_type": "code",
   "execution_count": 24,
   "id": "9cf95da2",
   "metadata": {},
   "outputs": [
    {
     "name": "stdout",
     "output_type": "stream",
     "text": [
      "Enter the value of m:1\n",
      "Enter the value of n:1\n",
      "Ans is 11\n"
     ]
    }
   ],
   "source": [
    "#Example 6\n",
    "m=input(\"Enter the value of m:\")\n",
    "n=input(\"Enter the value of n:\")\n",
    "ans= m+n\n",
    "print(\"Ans is\",ans) # Ans is 11 Because Python take 1 is a string..m+n is joining both the string i.s concatinate .."
   ]
  },
  {
   "cell_type": "code",
   "execution_count": 26,
   "id": "65bbcacc",
   "metadata": {},
   "outputs": [
    {
     "name": "stdout",
     "output_type": "stream",
     "text": [
      "Enter the value of m:20\n",
      "Enter the value of n:20\n",
      "Ans is 40\n"
     ]
    }
   ],
   "source": [
    "#Example 7\n",
    "m=int(input(\"Enter the value of m:\")) #int\n",
    "n=int(input(\"Enter the value of n:\"))\n",
    "ans= m+n\n",
    "print(\"Ans is\",ans)"
   ]
  },
  {
   "cell_type": "code",
   "execution_count": 33,
   "id": "560c65ad",
   "metadata": {},
   "outputs": [
    {
     "name": "stdout",
     "output_type": "stream",
     "text": [
      "Enter the value of x:20\n",
      "Enter the value of y:10\n",
      "Ans is 10\n"
     ]
    }
   ],
   "source": [
    "#Example 8 Subtraction\n",
    "X=int(input(\"Enter the value of x:\"))\n",
    "Y=int(input(\"Enter the value of y:\"))\n",
    "z= X-Y\n",
    "print(\"Ans is\",z)"
   ]
  },
  {
   "cell_type": "code",
   "execution_count": 34,
   "id": "66fb64a5",
   "metadata": {},
   "outputs": [
    {
     "name": "stdout",
     "output_type": "stream",
     "text": [
      "Ans is 10\n"
     ]
    }
   ],
   "source": [
    "#Example 9 Subtraction\n",
    "x=20\n",
    "y=10\n",
    "z=x-y\n",
    "print(\"Ans is\",z)"
   ]
  },
  {
   "cell_type": "code",
   "execution_count": 35,
   "id": "33f4ecad",
   "metadata": {},
   "outputs": [
    {
     "name": "stdout",
     "output_type": "stream",
     "text": [
      "Ans is 36\n"
     ]
    }
   ],
   "source": [
    "#Example 10 Multiplication\n",
    "x=6\n",
    "y=6\n",
    "z=x*y\n",
    "print(\"Ans is\",z)"
   ]
  },
  {
   "cell_type": "code",
   "execution_count": 37,
   "id": "2937f846",
   "metadata": {},
   "outputs": [
    {
     "name": "stdout",
     "output_type": "stream",
     "text": [
      "Enter the value of x:6\n",
      "Enter the value of y:6\n",
      "Ans is 36\n"
     ]
    }
   ],
   "source": [
    "x=int(input(\"Enter the value of x:\"))\n",
    "y=int(input(\"Enter the value of y:\"))\n",
    "z= x*y\n",
    "print(\"Ans is\",z)"
   ]
  },
  {
   "cell_type": "code",
   "execution_count": 38,
   "id": "7197666d",
   "metadata": {},
   "outputs": [
    {
     "name": "stdout",
     "output_type": "stream",
     "text": [
      "Ans is 2\n"
     ]
    }
   ],
   "source": [
    "x=2\n",
    "y=5\n",
    "z= x%y\n",
    "print(\"Ans is\",z)"
   ]
  },
  {
   "cell_type": "code",
   "execution_count": 47,
   "id": "52405129",
   "metadata": {},
   "outputs": [
    {
     "name": "stdout",
     "output_type": "stream",
     "text": [
      "Enter the value of x:2\n",
      "Enter the value of y:5\n",
      "Ans is 2\n"
     ]
    }
   ],
   "source": [
    "x=int(input(\"Enter the value of x:\"))\n",
    "y=int(input(\"Enter the value of y:\"))\n",
    "z= x%y\n",
    "print(\"Ans is\",z)"
   ]
  },
  {
   "cell_type": "code",
   "execution_count": null,
   "id": "9ec0e650",
   "metadata": {},
   "outputs": [],
   "source": []
  }
 ],
 "metadata": {
  "kernelspec": {
   "display_name": "Python 3",
   "language": "python",
   "name": "python3"
  },
  "language_info": {
   "codemirror_mode": {
    "name": "ipython",
    "version": 3
   },
   "file_extension": ".py",
   "mimetype": "text/x-python",
   "name": "python",
   "nbconvert_exporter": "python",
   "pygments_lexer": "ipython3",
   "version": "3.8.8"
  }
 },
 "nbformat": 4,
 "nbformat_minor": 5
}
