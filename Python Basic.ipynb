{
 "cells": [
  {
   "cell_type": "markdown",
   "id": "8d27a006",
   "metadata": {},
   "source": [
    "# Python Basic"
   ]
  },
  {
   "cell_type": "markdown",
   "id": "5c455e96",
   "metadata": {},
   "source": [
    "Python is nothing but the programming language.Or it is nothing but the set of kind of instruction. which is used to create application.\n"
   ]
  },
  {
   "cell_type": "markdown",
   "id": "9cb651fc",
   "metadata": {},
   "source": [
    "JVM:Java Virtual Machine....It is nothing but the Abstract Machine.Which is used to Extract the Byte code..\n",
    "Abstract Machine.....It is nothing but the platform\n",
    "\n",
    "Platform...It is mothing but the any Hardware and any Software or combination of Software and Hardware,on which program Run\n"
   ]
  },
  {
   "cell_type": "markdown",
   "id": "684ccef9",
   "metadata": {},
   "source": [
    " <h3> <b>Print Hello in Python</h3> </b>"
   ]
  },
  {
   "cell_type": "code",
   "execution_count": 2,
   "id": "a27a4a31",
   "metadata": {},
   "outputs": [
    {
     "name": "stdout",
     "output_type": "stream",
     "text": [
      "Hello\n"
     ]
    }
   ],
   "source": [
    "print(\"Hello\")\n"
   ]
  },
  {
   "cell_type": "code",
   "execution_count": null,
   "id": "a3a13967",
   "metadata": {},
   "outputs": [],
   "source": []
  }
 ],
 "metadata": {
  "kernelspec": {
   "display_name": "Python 3",
   "language": "python",
   "name": "python3"
  },
  "language_info": {
   "codemirror_mode": {
    "name": "ipython",
    "version": 3
   },
   "file_extension": ".py",
   "mimetype": "text/x-python",
   "name": "python",
   "nbconvert_exporter": "python",
   "pygments_lexer": "ipython3",
   "version": "3.8.8"
  }
 },
 "nbformat": 4,
 "nbformat_minor": 5
}
